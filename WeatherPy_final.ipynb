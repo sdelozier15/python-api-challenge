{
 "cells": [
  {
   "cell_type": "code",
   "execution_count": null,
   "metadata": {},
   "outputs": [],
   "source": [
    "import matplotlib.pyplot as plt\n",
    "import pandas as pd\n",
    "import numpy as np\n",
    "import requests\n",
    "import time\n",
    "from pprint import pprint\n",
    "\n",
    "from api_keys import api_key\n",
    "\n",
    "from citipy import citipy\n",
    "\n",
    "output_data_file = \"output_data/cities.csv\"\n",
    "\n",
    "lat_range = (-90, 90)\n",
    "lng_range = (-180, 180)"
   ]
  },
  {
   "cell_type": "code",
   "execution_count": null,
   "metadata": {},
   "outputs": [],
   "source": [
    "lat_lngs = []\n",
    "cities = []\n",
    "\n",
    "lats = np.random.uniform(low=-90.000, high=90.000, size=1500)\n",
    "lngs = np.random.uniform(low=-180.000, high=180.000, size=1500)\n",
    "lat_lngs = zip(lats, lngs)\n",
    "\n",
    "for lat_lng in lat_lngs:\n",
    "    city = citipy.nearest_city(lat_lng[0], lat_lng[1]).city_name\n",
    "    \n",
    "    if city not in cities:\n",
    "        cities.append(city)\n",
    "\n",
    "len(cities)"
   ]
  },
  {
   "cell_type": "code",
   "execution_count": null,
   "metadata": {},
   "outputs": [],
   "source": [
    "url = \"http://api.openweathermap.org/data/2.5/weather?lat=0&lon=1&APPID=\" + api_key"
   ]
  },
  {
   "cell_type": "code",
   "execution_count": null,
   "metadata": {},
   "outputs": [],
   "source": [
    "r=[]\n",
    "print(f\"Beginning Data Retrieval\")\n",
    "print(f\"-------------------------------\")\n",
    "\n",
    "for i, city in enumerate(cities):\n",
    "    print(f\"Processing Record #{i}: {city}\")\n",
    "\n",
    "    try:\n",
    "        response = requests.get(f\"{url}&q={city}\").json()\n",
    "        new_response = [response[\"name\"], response[\"clouds\"][\"all\"], \n",
    "                response[\"sys\"][\"country\"], response[\"dt\"], \n",
    "                response[\"main\"][\"humidity\"], response[\"main\"][\"temp_max\"], \n",
    "                response[\"coord\"][\"lat\"], response[\"coord\"][\"lon\"],\n",
    "                response[\"wind\"][\"speed\"]]\n",
    "        r.append(new_response)\n",
    "    \n",
    "    except:\n",
    "        print(f\"{city} not here.\")\n",
    "        continue\n",
    "\n",
    "    print(f\"{url}&q={city}\")"
   ]
  },
  {
   "cell_type": "code",
   "execution_count": null,
   "metadata": {},
   "outputs": [],
   "source": [
    "w_pd = pd.DataFrame(r, columns = ['City', 'cloud','Country', 'dt', \n",
    "                'humidity', 'temp_max', 'lat', 'lon', 'wind_speed'])\n",
    "w_pd.to_csv('randomweather_data.csv') "
   ]
  },
  {
   "cell_type": "code",
   "execution_count": null,
   "metadata": {},
   "outputs": [],
   "source": [
    "title = {'fontsize': 15,\n",
    " 'fontweight' : 'bold'}\n",
    "w_pd['temp_max_F'] = (((w_pd['temp_max'] - 273.15)*9)/5)+32\n",
    "w_pd['wind_mph'] = (w_pd['wind_speed'] * 2.2369)"
   ]
  },
  {
   "cell_type": "code",
   "execution_count": null,
   "metadata": {},
   "outputs": [],
   "source": [
    "temp_plt = plt.scatter(x=w_pd.lat, y=w_pd.temp_max_F)\n",
    "plt.xlabel('Latitude')\n",
    "plt.xlim(-90, 90)\n",
    "plt.ylabel('Temperature (F)')\n",
    "plt.title('Temperature (F) vs. Latitude', fontdict=title)\n",
    "plt.show()\n",
    "plt.savefig('lat_temp.png')"
   ]
  },
  {
   "cell_type": "code",
   "execution_count": null,
   "metadata": {},
   "outputs": [],
   "source": [
    "humid_plt = plt.scatter(x=w_pd.lat, y=w_pd.humidity)\n",
    "plt.xlabel('Latitude')\n",
    "plt.ylabel('Humidity (%)')\n",
    "plt.xlim(-90, 90)\n",
    "plt.title(\"Humidity (%) vs. Latitude\", fontdict=title)\n",
    "plt.show()\n",
    "plt.savefig('lat_humid.png')"
   ]
  },
  {
   "cell_type": "code",
   "execution_count": null,
   "metadata": {},
   "outputs": [],
   "source": [
    "cloud_plt = plt.scatter(x=w_pd.lat, y=w_pd.cloud)\n",
    "plt.xlabel('Latitude')\n",
    "plt.ylabel('Cloudiness (%)')\n",
    "plt.xlim(-90, 90)\n",
    "plt.title('Cloudiness (%) vs. Latitude', fontdict=title)\n",
    "plt.show()\n",
    "plt.savefig('lat_cloud.png')"
   ]
  },
  {
   "cell_type": "code",
   "execution_count": null,
   "metadata": {},
   "outputs": [],
   "source": [
    "windy_plt = plt.scatter(x=w_pd.lat, y=w_pd.wind_mph)\n",
    "plt.xlabel('Latitude')\n",
    "plt.ylabel('Wind Speed (mph)')\n",
    "plt.xlim(-90, 90)\n",
    "plt.title('Windiness (mph) vs. Latitude', fontdict=title)\n",
    "plt.show()\n",
    "plt.savefig('lat_wind.png')"
   ]
  }
 ],
 "metadata": {
  "kernelspec": {
   "display_name": "Python 3",
   "language": "python",
   "name": "python3"
  },
  "language_info": {
   "codemirror_mode": {
    "name": "ipython",
    "version": 3
   },
   "file_extension": ".py",
   "mimetype": "text/x-python",
   "name": "python",
   "nbconvert_exporter": "python",
   "pygments_lexer": "ipython3",
   "version": "3.7.3"
  }
 },
 "nbformat": 4,
 "nbformat_minor": 2
}
